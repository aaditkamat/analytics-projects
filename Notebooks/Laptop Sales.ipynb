{
 "cells": [
  {
   "cell_type": "code",
   "execution_count": 1,
   "metadata": {},
   "outputs": [],
   "source": [
    "import numpy as np\n",
    "import pandas as pd\n",
    "import matplotlib.pyplot as plt\n",
    "import seaborn as sns"
   ]
  },
  {
   "cell_type": "code",
   "execution_count": 36,
   "metadata": {},
   "outputs": [
    {
     "data": {
      "text/html": [
       "<div>\n",
       "<style scoped>\n",
       "    .dataframe tbody tr th:only-of-type {\n",
       "        vertical-align: middle;\n",
       "    }\n",
       "\n",
       "    .dataframe tbody tr th {\n",
       "        vertical-align: top;\n",
       "    }\n",
       "\n",
       "    .dataframe thead th {\n",
       "        text-align: right;\n",
       "    }\n",
       "</style>\n",
       "<table border=\"1\" class=\"dataframe\">\n",
       "  <thead>\n",
       "    <tr style=\"text-align: right;\">\n",
       "      <th></th>\n",
       "      <th>Date</th>\n",
       "      <th>Configuration</th>\n",
       "      <th>Customer Postcode</th>\n",
       "      <th>Store Postcode</th>\n",
       "      <th>Retail Price</th>\n",
       "      <th>Screen Size (Inches)</th>\n",
       "      <th>Battery Life (Hours)</th>\n",
       "      <th>RAM (GB)</th>\n",
       "      <th>Processor Speeds (GHz)</th>\n",
       "      <th>Integrated Wireless?</th>\n",
       "      <th>HD Size (GB)</th>\n",
       "      <th>Bundled Applications?</th>\n",
       "      <th>customer X</th>\n",
       "      <th>customer Y</th>\n",
       "      <th>store X</th>\n",
       "      <th>store Y</th>\n",
       "    </tr>\n",
       "  </thead>\n",
       "  <tbody>\n",
       "    <tr>\n",
       "      <th>0</th>\n",
       "      <td>1/1/2008 0:01</td>\n",
       "      <td>163</td>\n",
       "      <td>EC4V 5BH</td>\n",
       "      <td>SE1 2BN</td>\n",
       "      <td>455.0</td>\n",
       "      <td>15</td>\n",
       "      <td>5</td>\n",
       "      <td>1</td>\n",
       "      <td>2.0</td>\n",
       "      <td>Yes</td>\n",
       "      <td>80</td>\n",
       "      <td>Yes</td>\n",
       "      <td>532041</td>\n",
       "      <td>180995</td>\n",
       "      <td>534057.0</td>\n",
       "      <td>179682.0</td>\n",
       "    </tr>\n",
       "    <tr>\n",
       "      <th>1</th>\n",
       "      <td>1/1/2008 0:02</td>\n",
       "      <td>320</td>\n",
       "      <td>SW4 0JL</td>\n",
       "      <td>SW12 9HD</td>\n",
       "      <td>545.0</td>\n",
       "      <td>15</td>\n",
       "      <td>6</td>\n",
       "      <td>1</td>\n",
       "      <td>2.0</td>\n",
       "      <td>No</td>\n",
       "      <td>300</td>\n",
       "      <td>No</td>\n",
       "      <td>529240</td>\n",
       "      <td>175537</td>\n",
       "      <td>528739.0</td>\n",
       "      <td>173080.0</td>\n",
       "    </tr>\n",
       "    <tr>\n",
       "      <th>2</th>\n",
       "      <td>1/1/2008 0:04</td>\n",
       "      <td>23</td>\n",
       "      <td>EC3V 1LR</td>\n",
       "      <td>E2 0RY</td>\n",
       "      <td>515.0</td>\n",
       "      <td>15</td>\n",
       "      <td>4</td>\n",
       "      <td>1</td>\n",
       "      <td>2.0</td>\n",
       "      <td>Yes</td>\n",
       "      <td>300</td>\n",
       "      <td>Yes</td>\n",
       "      <td>533095</td>\n",
       "      <td>181047</td>\n",
       "      <td>535652.0</td>\n",
       "      <td>182961.0</td>\n",
       "    </tr>\n",
       "    <tr>\n",
       "      <th>3</th>\n",
       "      <td>1/1/2008 0:04</td>\n",
       "      <td>169</td>\n",
       "      <td>SW1P 3AU</td>\n",
       "      <td>SE1 2BN</td>\n",
       "      <td>395.0</td>\n",
       "      <td>15</td>\n",
       "      <td>5</td>\n",
       "      <td>1</td>\n",
       "      <td>2.0</td>\n",
       "      <td>No</td>\n",
       "      <td>40</td>\n",
       "      <td>Yes</td>\n",
       "      <td>529902</td>\n",
       "      <td>179641</td>\n",
       "      <td>534057.0</td>\n",
       "      <td>179682.0</td>\n",
       "    </tr>\n",
       "    <tr>\n",
       "      <th>4</th>\n",
       "      <td>1/1/2008 0:06</td>\n",
       "      <td>365</td>\n",
       "      <td>EC4V 4EG</td>\n",
       "      <td>SW1V 4QQ</td>\n",
       "      <td>585.0</td>\n",
       "      <td>15</td>\n",
       "      <td>6</td>\n",
       "      <td>2</td>\n",
       "      <td>2.0</td>\n",
       "      <td>No</td>\n",
       "      <td>120</td>\n",
       "      <td>Yes</td>\n",
       "      <td>531684</td>\n",
       "      <td>180948</td>\n",
       "      <td>528924.0</td>\n",
       "      <td>178440.0</td>\n",
       "    </tr>\n",
       "  </tbody>\n",
       "</table>\n",
       "</div>"
      ],
      "text/plain": [
       "            Date  Configuration Customer Postcode Store Postcode  \\\n",
       "0  1/1/2008 0:01            163          EC4V 5BH        SE1 2BN   \n",
       "1  1/1/2008 0:02            320           SW4 0JL       SW12 9HD   \n",
       "2  1/1/2008 0:04             23          EC3V 1LR         E2 0RY   \n",
       "3  1/1/2008 0:04            169          SW1P 3AU        SE1 2BN   \n",
       "4  1/1/2008 0:06            365          EC4V 4EG       SW1V 4QQ   \n",
       "\n",
       "   Retail Price  Screen Size (Inches)  Battery Life (Hours)  RAM (GB)  \\\n",
       "0         455.0                    15                     5         1   \n",
       "1         545.0                    15                     6         1   \n",
       "2         515.0                    15                     4         1   \n",
       "3         395.0                    15                     5         1   \n",
       "4         585.0                    15                     6         2   \n",
       "\n",
       "   Processor Speeds (GHz) Integrated Wireless?  HD Size (GB)  \\\n",
       "0                     2.0                  Yes            80   \n",
       "1                     2.0                   No           300   \n",
       "2                     2.0                  Yes           300   \n",
       "3                     2.0                   No            40   \n",
       "4                     2.0                   No           120   \n",
       "\n",
       "  Bundled Applications?  customer X  customer Y   store X   store Y  \n",
       "0                   Yes      532041      180995  534057.0  179682.0  \n",
       "1                    No      529240      175537  528739.0  173080.0  \n",
       "2                   Yes      533095      181047  535652.0  182961.0  \n",
       "3                   Yes      529902      179641  534057.0  179682.0  \n",
       "4                   Yes      531684      180948  528924.0  178440.0  "
      ]
     },
     "execution_count": 36,
     "metadata": {},
     "output_type": "execute_result"
    }
   ],
   "source": [
    "laptop_sales_df = pd.read_csv('../Datasets/LaptopSales.csv').dropna(subset=['Date'])\n",
    "laptop_sales_df.head()"
   ]
  },
  {
   "cell_type": "code",
   "execution_count": 40,
   "metadata": {},
   "outputs": [],
   "source": [
    "laptop_sales_df['Retail Price'].interpolate(method='linear', inplace=True)"
   ]
  },
  {
   "cell_type": "code",
   "execution_count": 41,
   "metadata": {},
   "outputs": [
    {
     "name": "stdout",
     "output_type": "stream",
     "text": [
      "<class 'pandas.core.frame.DataFrame'>\n",
      "Int64Index: 297364 entries, 0 to 297571\n",
      "Data columns (total 16 columns):\n",
      " #   Column                  Non-Null Count   Dtype  \n",
      "---  ------                  --------------   -----  \n",
      " 0   Date                    297364 non-null  object \n",
      " 1   Configuration           297364 non-null  int64  \n",
      " 2   Customer Postcode       297364 non-null  object \n",
      " 3   Store Postcode          297364 non-null  object \n",
      " 4   Retail Price            297364 non-null  float64\n",
      " 5   Screen Size (Inches)    297364 non-null  int64  \n",
      " 6   Battery Life (Hours)    297364 non-null  int64  \n",
      " 7   RAM (GB)                297364 non-null  int64  \n",
      " 8   Processor Speeds (GHz)  297364 non-null  float64\n",
      " 9   Integrated Wireless?    297364 non-null  object \n",
      " 10  HD Size (GB)            297364 non-null  int64  \n",
      " 11  Bundled Applications?   297364 non-null  object \n",
      " 12  customer X              297364 non-null  int64  \n",
      " 13  customer Y              297364 non-null  int64  \n",
      " 14  store X                 297216 non-null  float64\n",
      " 15  store Y                 297216 non-null  float64\n",
      "dtypes: float64(4), int64(7), object(5)\n",
      "memory usage: 38.6+ MB\n"
     ]
    }
   ],
   "source": [
    "laptop_sales_df.info()"
   ]
  },
  {
   "cell_type": "code",
   "execution_count": 42,
   "metadata": {},
   "outputs": [
    {
     "data": {
      "application/javascript": "\n        if (window._pyforest_update_imports_cell) { window._pyforest_update_imports_cell('from pathlib import Path\\nimport matplotlib.pyplot as plt\\nfrom statsmodels.tsa.arima_model import ARIMA\\nimport seaborn as sns'); }\n    ",
      "text/plain": [
       "<IPython.core.display.Javascript object>"
      ]
     },
     "metadata": {},
     "output_type": "display_data"
    },
    {
     "data": {
      "application/javascript": "\n        if (window._pyforest_update_imports_cell) { window._pyforest_update_imports_cell('from pathlib import Path\\nimport matplotlib.pyplot as plt\\nfrom statsmodels.tsa.arima_model import ARIMA\\nimport seaborn as sns'); }\n    ",
      "text/plain": [
       "<IPython.core.display.Javascript object>"
      ]
     },
     "metadata": {},
     "output_type": "display_data"
    },
    {
     "data": {
      "application/javascript": "\n        if (window._pyforest_update_imports_cell) { window._pyforest_update_imports_cell('from pathlib import Path\\nimport matplotlib.pyplot as plt\\nfrom statsmodels.tsa.arima_model import ARIMA\\nimport seaborn as sns'); }\n    ",
      "text/plain": [
       "<IPython.core.display.Javascript object>"
      ]
     },
     "metadata": {},
     "output_type": "display_data"
    },
    {
     "data": {
      "image/png": "[encoded data removed]",
      "text/plain": [
       "<Figure size 640x480 with 1 Axes>"
      ]
     },
     "metadata": {},
     "output_type": "display_data"
    }
   ],
   "source": [
    "fig, ax = plt.subplots()\n",
    "grouped_df = laptop_sales_df.groupby('Store Postcode')['Retail Price'].mean()\n",
    "stores = [grouped_df.idxmin(), grouped_df.idxmax()]\n",
    "sns.barplot(grouped_df, x=stores, y=grouped_df[stores], ax=ax)\n",
    "ax.set_xticklabels(stores)\n",
    "plt.show()"
   ]
  },
  {
   "cell_type": "code",
   "execution_count": 44,
   "metadata": {},
   "outputs": [
    {
     "data": {
      "application/javascript": "\n        if (window._pyforest_update_imports_cell) { window._pyforest_update_imports_cell('from pathlib import Path\\nimport matplotlib.pyplot as plt\\nfrom statsmodels.tsa.arima_model import ARIMA\\nimport seaborn as sns'); }\n    ",
      "text/plain": [
       "<IPython.core.display.Javascript object>"
      ]
     },
     "metadata": {},
     "output_type": "display_data"
    },
    {
     "data": {
      "application/javascript": "\n        if (window._pyforest_update_imports_cell) { window._pyforest_update_imports_cell('from pathlib import Path\\nimport matplotlib.pyplot as plt\\nfrom statsmodels.tsa.arima_model import ARIMA\\nimport seaborn as sns'); }\n    ",
      "text/plain": [
       "<IPython.core.display.Javascript object>"
      ]
     },
     "metadata": {},
     "output_type": "display_data"
    },
    {
     "data": {
      "application/javascript": "\n        if (window._pyforest_update_imports_cell) { window._pyforest_update_imports_cell('from pathlib import Path\\nimport matplotlib.pyplot as plt\\nfrom statsmodels.tsa.arima_model import ARIMA\\nimport seaborn as sns'); }\n    ",
      "text/plain": [
       "<IPython.core.display.Javascript object>"
      ]
     },
     "metadata": {},
     "output_type": "display_data"
    },
    {
     "data": {
      "image/png": "[encoded data removed]",
      "text/plain": [
       "<Figure size 640x480 with 1 Axes>"
      ]
     },
     "metadata": {},
     "output_type": "display_data"
    }
   ],
   "source": [
    "fig, ax = plt.subplots()\n",
    "df = laptop_sales_df.loc[laptop_sales_df['Store Postcode'].isin(stores), ['Store Postcode', 'Retail Price']]\n",
    "sns.boxplot(df, x='Store Postcode', y='Retail Price', ax=ax)\n",
    "plt.show()"
   ]
  }
 ],
 "metadata": {
  "kernelspec": {
   "display_name": "Python 3",
   "language": "python",
   "name": "python3"
  },
  "language_info": {
   "codemirror_mode": {
    "name": "ipython",
    "version": 3
   },
   "file_extension": ".py",
   "mimetype": "text/x-python",
   "name": "python",
   "nbconvert_exporter": "python",
   "pygments_lexer": "ipython3",
   "version": "3.11.2"
  }
 },
 "nbformat": 4,
 "nbformat_minor": 2
}
