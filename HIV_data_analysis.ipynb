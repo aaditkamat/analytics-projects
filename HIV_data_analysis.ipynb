{
  "nbformat": 4,
  "nbformat_minor": 0,
  "metadata": {
    "colab": {
      "provenance": [],
      "authorship_tag": "ABX9TyOD8ehS28i8vVqRPD8bF1b8",
      "include_colab_link": true
    },
    "kernelspec": {
      "name": "python3",
      "display_name": "Python 3"
    },
    "language_info": {
      "name": "python"
    }
  },
  "cells": [
    {
      "cell_type": "markdown",
      "metadata": {
        "id": "view-in-github",
        "colab_type": "text"
      },
      "source": [
        "<a href=\"https://colab.research.google.com/github/aaditkamat/analytics-projects/blob/main/HIV_data_analysis.ipynb\" target=\"_parent\"><img src=\"https://colab.research.google.com/assets/colab-badge.svg\" alt=\"Open In Colab\"/></a>"
      ]
    },
    {
      "cell_type": "code",
      "execution_count": null,
      "metadata": {
        "id": "_P-o9TFB5uay"
      },
      "outputs": [],
      "source": [
        "import numpy as np\n",
        "import pandas as pd\n",
        "import re"
      ]
    },
    {
      "cell_type": "code",
      "source": [
        "df = pd.read_excel('http://www.unaids.org/sites/default/files/media_asset/HIV_estimates_from_1990-to-present.xlsx', skiprows=range(4))\n",
        "df.head()"
      ],
      "metadata": {
        "id": "wnTu6d6U53fZ"
      },
      "execution_count": null,
      "outputs": []
    },
    {
      "cell_type": "code",
      "source": [
        "percent_groups = df.iloc[0, :].dropna().unique()\n",
        "estimate_levels = df.iloc[1, :].dropna().unique()\n",
        "years = df.iloc[:, 0].dropna().unique().astype(np.int64)\n",
        "locations = df.iloc[:, 2].dropna().unique()\n",
        "vals_df = df.iloc[2: , 3: ]"
      ],
      "metadata": {
        "id": "TU283Ill6jch"
      },
      "execution_count": null,
      "outputs": []
    },
    {
      "cell_type": "code",
      "source": [
        "index_1 = pd.MultiIndex.from_tuples([(x, y) for x in percent_groups for y in estimate_levels], names=['percent_groups', 'estimate_levels'])\n",
        "index_2 = pd.MultiIndex.from_tuples([(x, y) for x in years for y in locations], names=['years', 'locations'])\n",
        "index_1.shape, index_2.shape"
      ],
      "metadata": {
        "id": "XjE9j4ACEqGa"
      },
      "execution_count": null,
      "outputs": []
    },
    {
      "cell_type": "code",
      "source": [
        "vals_df.shape"
      ],
      "metadata": {
        "id": "MjKBHZBVMLBe"
      },
      "execution_count": null,
      "outputs": []
    },
    {
      "cell_type": "code",
      "source": [
        "vals_df"
      ],
      "metadata": {
        "id": "OqNo7QvhZJQN"
      },
      "execution_count": null,
      "outputs": []
    },
    {
      "cell_type": "code",
      "source": [
        "def replace(x):\n",
        "  if 'm' in str(x):\n",
        "     return int(float(x.replace('m', '')) * 1e6)\n",
        "  if '...' in str(x):\n",
        "    return np.nan\n",
        "  if ' ' in str(x):\n",
        "    return int(''.join(x.split(' ')))\n",
        "  if '<' in str(x):\n",
        "    return np.finfo(np.float64).eps\n",
        "  return x\n"
      ],
      "metadata": {
        "id": "DNp9b95hP2BC"
      },
      "execution_count": null,
      "outputs": []
    },
    {
      "cell_type": "code",
      "source": [
        "data = np.vectorize(replace)(vals_df.values)"
      ],
      "metadata": {
        "id": "yT_2WFw4Z4xZ"
      },
      "execution_count": null,
      "outputs": []
    },
    {
      "cell_type": "code",
      "source": [
        "new_df = pd.DataFrame(index=index_2, columns=index_1, data=data)\n",
        "regions = ['Global', 'Asia and the Pacific', 'Eastern and southern Africa', 'Eastern Europe and central Asia'\n",
        ", 'Latin America', 'Middle East and North Africa', 'Western and central Africa', 'Western and central Europe and North America']\n",
        "row_indexer = [val for val in new_df.index if 2022 in val]\n",
        "col_indexer = [val for val in new_df.columns\n",
        "               if 'adults and children living with HIV' in val[0]\n",
        "               or 'Adults and children newly infected with HIV' in val[0]\n",
        "               or 'All ages incidence' in val[0]]\n",
        "hiv_2022 = new_df.loc[row_indexer, col_indexer]"
      ],
      "metadata": {
        "id": "H8attTUNLjsR"
      },
      "execution_count": null,
      "outputs": []
    },
    {
      "cell_type": "code",
      "source": [
        "col_indexer = [val for val in hiv_2022.columns if 'All ages incidence' in val[0]]\n",
        "hiv_2022.loc[:, col_indexer] = hiv_2022.loc[:, col_indexer] * 1000"
      ],
      "metadata": {
        "id": "kn7x9wLUo4Vr"
      },
      "execution_count": null,
      "outputs": []
    },
    {
      "cell_type": "code",
      "source": [
        "hiv_2022.rename(columns={val[0]: val[0].replace('(per 1000 uninfected population)', '') for val in col_indexer}, inplace=True)\n",
        "hiv_2022"
      ],
      "metadata": {
        "id": "xjF4QLFLj0yC"
      },
      "execution_count": null,
      "outputs": []
    },
    {
      "cell_type": "code",
      "source": [
        "hiv_2022.loc[:, 'Sum'] = hiv_2022.apply(np.sum, axis=1)\n",
        "hiv_2022.sort_values(by='Sum', ascending=False).iloc[: 20]"
      ],
      "metadata": {
        "id": "RAI8NfKXpR-2"
      },
      "execution_count": null,
      "outputs": []
    }
  ]
}